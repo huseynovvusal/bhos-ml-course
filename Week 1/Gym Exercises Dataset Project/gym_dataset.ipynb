{
 "cells": [
  {
   "cell_type": "code",
   "execution_count": 7,
   "metadata": {},
   "outputs": [],
   "source": [
    "import pandas as pd"
   ]
  },
  {
   "cell_type": "code",
   "execution_count": 2,
   "metadata": {},
   "outputs": [],
   "source": [
    "dataset = pd.read_csv('gym_dataset.csv')"
   ]
  },
  {
   "cell_type": "code",
   "execution_count": 3,
   "metadata": {},
   "outputs": [],
   "source": [
    "keys = ['Title', 'Desc', 'Type', 'BodyPart', \"Level\", \"Equipment\"]"
   ]
  },
  {
   "cell_type": "code",
   "execution_count": 4,
   "metadata": {},
   "outputs": [],
   "source": [
    "dataset = dataset[keys]"
   ]
  },
  {
   "cell_type": "code",
   "execution_count": 5,
   "metadata": {},
   "outputs": [
    {
     "data": {
      "text/plain": [
       "array(['Bands', 'Barbell', 'Kettlebells', 'Dumbbell', 'Other', 'Cable',\n",
       "       'Machine', 'Body Only', 'Medicine Ball', nan, 'Exercise Ball',\n",
       "       'Foam Roll', 'E-Z Curl Bar'], dtype=object)"
      ]
     },
     "execution_count": 5,
     "metadata": {},
     "output_type": "execute_result"
    }
   ],
   "source": [
    "dataset['Equipment'].unique()"
   ]
  },
  {
   "cell_type": "code",
   "execution_count": 6,
   "metadata": {},
   "outputs": [
    {
     "data": {
      "text/html": [
       "<div>\n",
       "<style scoped>\n",
       "    .dataframe tbody tr th:only-of-type {\n",
       "        vertical-align: middle;\n",
       "    }\n",
       "\n",
       "    .dataframe tbody tr th {\n",
       "        vertical-align: top;\n",
       "    }\n",
       "\n",
       "    .dataframe thead th {\n",
       "        text-align: right;\n",
       "    }\n",
       "</style>\n",
       "<table border=\"1\" class=\"dataframe\">\n",
       "  <thead>\n",
       "    <tr style=\"text-align: right;\">\n",
       "      <th></th>\n",
       "      <th>Title</th>\n",
       "      <th>Desc</th>\n",
       "      <th>Type</th>\n",
       "      <th>BodyPart</th>\n",
       "      <th>Level</th>\n",
       "      <th>Equipment</th>\n",
       "    </tr>\n",
       "  </thead>\n",
       "  <tbody>\n",
       "    <tr>\n",
       "      <th>185</th>\n",
       "      <td>Elbow plank</td>\n",
       "      <td>The elbow plank is a popular isometric abdomin...</td>\n",
       "      <td>Strength</td>\n",
       "      <td>Abdominals</td>\n",
       "      <td>Intermediate</td>\n",
       "      <td>Body Only</td>\n",
       "    </tr>\n",
       "    <tr>\n",
       "      <th>186</th>\n",
       "      <td>Bottoms Up</td>\n",
       "      <td>The lying leg lift is a popular bodyweight exe...</td>\n",
       "      <td>Strength</td>\n",
       "      <td>Abdominals</td>\n",
       "      <td>Intermediate</td>\n",
       "      <td>Body Only</td>\n",
       "    </tr>\n",
       "    <tr>\n",
       "      <th>187</th>\n",
       "      <td>Spider crawl</td>\n",
       "      <td>The spider crawl is a bodyweight exercise that...</td>\n",
       "      <td>Strength</td>\n",
       "      <td>Abdominals</td>\n",
       "      <td>Intermediate</td>\n",
       "      <td>Body Only</td>\n",
       "    </tr>\n",
       "    <tr>\n",
       "      <th>188</th>\n",
       "      <td>Cocoons</td>\n",
       "      <td>The cocoon crunch is a bodyweight exercise tar...</td>\n",
       "      <td>Strength</td>\n",
       "      <td>Abdominals</td>\n",
       "      <td>Intermediate</td>\n",
       "      <td>Body Only</td>\n",
       "    </tr>\n",
       "    <tr>\n",
       "      <th>189</th>\n",
       "      <td>Cross-Body Crunch</td>\n",
       "      <td>The elbow-to-knee crunch is a bodyweight exerc...</td>\n",
       "      <td>Strength</td>\n",
       "      <td>Abdominals</td>\n",
       "      <td>Intermediate</td>\n",
       "      <td>Body Only</td>\n",
       "    </tr>\n",
       "    <tr>\n",
       "      <th>...</th>\n",
       "      <td>...</td>\n",
       "      <td>...</td>\n",
       "      <td>...</td>\n",
       "      <td>...</td>\n",
       "      <td>...</td>\n",
       "      <td>...</td>\n",
       "    </tr>\n",
       "    <tr>\n",
       "      <th>2895</th>\n",
       "      <td>TBS Dip</td>\n",
       "      <td>The triceps dip is a machine version of an exe...</td>\n",
       "      <td>Strength</td>\n",
       "      <td>Triceps</td>\n",
       "      <td>Intermediate</td>\n",
       "      <td>Body Only</td>\n",
       "    </tr>\n",
       "    <tr>\n",
       "      <th>2896</th>\n",
       "      <td>Bench Dips - Gethin Variation</td>\n",
       "      <td>The bench dip is a highly effective exercise f...</td>\n",
       "      <td>Strength</td>\n",
       "      <td>Triceps</td>\n",
       "      <td>Intermediate</td>\n",
       "      <td>Body Only</td>\n",
       "    </tr>\n",
       "    <tr>\n",
       "      <th>2897</th>\n",
       "      <td>Banded dip</td>\n",
       "      <td>The banded dip is a bodyweight exercise target...</td>\n",
       "      <td>Strength</td>\n",
       "      <td>Triceps</td>\n",
       "      <td>Intermediate</td>\n",
       "      <td>Body Only</td>\n",
       "    </tr>\n",
       "    <tr>\n",
       "      <th>2898</th>\n",
       "      <td>Bench Dip - Gethin Variation</td>\n",
       "      <td>The bench dip is a highly effective exercise f...</td>\n",
       "      <td>Strength</td>\n",
       "      <td>Triceps</td>\n",
       "      <td>Intermediate</td>\n",
       "      <td>Body Only</td>\n",
       "    </tr>\n",
       "    <tr>\n",
       "      <th>2900</th>\n",
       "      <td>Bench dip</td>\n",
       "      <td>The bench dip is a highly effective exercise f...</td>\n",
       "      <td>Strength</td>\n",
       "      <td>Triceps</td>\n",
       "      <td>Intermediate</td>\n",
       "      <td>Body Only</td>\n",
       "    </tr>\n",
       "  </tbody>\n",
       "</table>\n",
       "<p>404 rows × 6 columns</p>\n",
       "</div>"
      ],
      "text/plain": [
       "                              Title  \\\n",
       "185                     Elbow plank   \n",
       "186                      Bottoms Up   \n",
       "187                    Spider crawl   \n",
       "188                         Cocoons   \n",
       "189               Cross-Body Crunch   \n",
       "...                             ...   \n",
       "2895                        TBS Dip   \n",
       "2896  Bench Dips - Gethin Variation   \n",
       "2897                     Banded dip   \n",
       "2898   Bench Dip - Gethin Variation   \n",
       "2900                      Bench dip   \n",
       "\n",
       "                                                   Desc      Type    BodyPart  \\\n",
       "185   The elbow plank is a popular isometric abdomin...  Strength  Abdominals   \n",
       "186   The lying leg lift is a popular bodyweight exe...  Strength  Abdominals   \n",
       "187   The spider crawl is a bodyweight exercise that...  Strength  Abdominals   \n",
       "188   The cocoon crunch is a bodyweight exercise tar...  Strength  Abdominals   \n",
       "189   The elbow-to-knee crunch is a bodyweight exerc...  Strength  Abdominals   \n",
       "...                                                 ...       ...         ...   \n",
       "2895  The triceps dip is a machine version of an exe...  Strength     Triceps   \n",
       "2896  The bench dip is a highly effective exercise f...  Strength     Triceps   \n",
       "2897  The banded dip is a bodyweight exercise target...  Strength     Triceps   \n",
       "2898  The bench dip is a highly effective exercise f...  Strength     Triceps   \n",
       "2900  The bench dip is a highly effective exercise f...  Strength     Triceps   \n",
       "\n",
       "             Level  Equipment  \n",
       "185   Intermediate  Body Only  \n",
       "186   Intermediate  Body Only  \n",
       "187   Intermediate  Body Only  \n",
       "188   Intermediate  Body Only  \n",
       "189   Intermediate  Body Only  \n",
       "...            ...        ...  \n",
       "2895  Intermediate  Body Only  \n",
       "2896  Intermediate  Body Only  \n",
       "2897  Intermediate  Body Only  \n",
       "2898  Intermediate  Body Only  \n",
       "2900  Intermediate  Body Only  \n",
       "\n",
       "[404 rows x 6 columns]"
      ]
     },
     "execution_count": 6,
     "metadata": {},
     "output_type": "execute_result"
    }
   ],
   "source": [
    "dataset.where(dataset['Equipment'] == 'Body Only').dropna()"
   ]
  },
  {
   "cell_type": "code",
   "execution_count": null,
   "metadata": {},
   "outputs": [],
   "source": []
  }
 ],
 "metadata": {
  "kernelspec": {
   "display_name": ".venv",
   "language": "python",
   "name": "python3"
  },
  "language_info": {
   "codemirror_mode": {
    "name": "ipython",
    "version": 3
   },
   "file_extension": ".py",
   "mimetype": "text/x-python",
   "name": "python",
   "nbconvert_exporter": "python",
   "pygments_lexer": "ipython3",
   "version": "3.13.1"
  }
 },
 "nbformat": 4,
 "nbformat_minor": 2
}
